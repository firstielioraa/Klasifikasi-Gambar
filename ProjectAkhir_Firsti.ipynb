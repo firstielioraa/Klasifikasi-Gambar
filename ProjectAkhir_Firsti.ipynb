{
  "cells": [
    {
      "cell_type": "markdown",
      "metadata": {
        "id": "WEyg8gk5YmmF"
      },
      "source": [
        "**Proyek Akhir: Image Classification Model Deployment**\n",
        "\n",
        "Oleh: Firsti Eliora"
      ]
    },
    {
      "cell_type": "code",
      "execution_count": 1,
      "metadata": {
        "colab": {
          "base_uri": "https://localhost:8080/"
        },
        "id": "TT-rYXuNYncz",
        "outputId": "5ae3ef30-edab-48df-9ef4-9740186952f3"
      },
      "outputs": [
        {
          "output_type": "stream",
          "name": "stdout",
          "text": [
            "Looking in indexes: https://pypi.org/simple, https://us-python.pkg.dev/colab-wheels/public/simple/\n",
            "Collecting opendatasets\n",
            "  Downloading opendatasets-0.1.22-py3-none-any.whl (15 kB)\n",
            "Requirement already satisfied: kaggle in /usr/local/lib/python3.8/dist-packages (from opendatasets) (1.5.12)\n",
            "Requirement already satisfied: tqdm in /usr/local/lib/python3.8/dist-packages (from opendatasets) (4.64.1)\n",
            "Requirement already satisfied: click in /usr/local/lib/python3.8/dist-packages (from opendatasets) (7.1.2)\n",
            "Requirement already satisfied: requests in /usr/local/lib/python3.8/dist-packages (from kaggle->opendatasets) (2.23.0)\n",
            "Requirement already satisfied: python-dateutil in /usr/local/lib/python3.8/dist-packages (from kaggle->opendatasets) (2.8.2)\n",
            "Requirement already satisfied: urllib3 in /usr/local/lib/python3.8/dist-packages (from kaggle->opendatasets) (1.24.3)\n",
            "Requirement already satisfied: python-slugify in /usr/local/lib/python3.8/dist-packages (from kaggle->opendatasets) (7.0.0)\n",
            "Requirement already satisfied: certifi in /usr/local/lib/python3.8/dist-packages (from kaggle->opendatasets) (2022.9.24)\n",
            "Requirement already satisfied: six>=1.10 in /usr/local/lib/python3.8/dist-packages (from kaggle->opendatasets) (1.15.0)\n",
            "Requirement already satisfied: text-unidecode>=1.3 in /usr/local/lib/python3.8/dist-packages (from python-slugify->kaggle->opendatasets) (1.3)\n",
            "Requirement already satisfied: idna<3,>=2.5 in /usr/local/lib/python3.8/dist-packages (from requests->kaggle->opendatasets) (2.10)\n",
            "Requirement already satisfied: chardet<4,>=3.0.2 in /usr/local/lib/python3.8/dist-packages (from requests->kaggle->opendatasets) (3.0.4)\n",
            "Installing collected packages: opendatasets\n",
            "Successfully installed opendatasets-0.1.22\n"
          ]
        }
      ],
      "source": [
        "!pip install opendatasets\n",
        "import opendatasets as od\n",
        "import pandas as pd\n",
        "import os\n",
        "import tensorflow as tf\n",
        "import matplotlib.pyplot as plt\n",
        "import matplotlib.image as mpimg\n",
        "from keras.models import Sequential\n",
        "from keras.layers import Conv2D, AveragePooling2D, Dense, Flatten, Dropout\n",
        "from tensorflow.keras.optimizers import Adam\n",
        "from tensorflow.keras.callbacks import TensorBoard\n",
        "from keras.callbacks import EarlyStopping, ModelCheckpoint\n"
      ]
    },
    {
      "cell_type": "code",
      "execution_count": 2,
      "metadata": {
        "colab": {
          "base_uri": "https://localhost:8080/"
        },
        "id": "P35CR29DgRL4",
        "outputId": "897a8862-a141-43ae-fa38-bb260d3d381d"
      },
      "outputs": [
        {
          "output_type": "stream",
          "name": "stdout",
          "text": [
            "Please provide your Kaggle credentials to download this dataset. Learn more: http://bit.ly/kaggle-creds\n",
            "Your Kaggle username: aliffachriansyah\n",
            "Your Kaggle Key: ··········\n",
            "Downloading car-vs-bike-classification-dataset.zip to ./car-vs-bike-classification-dataset\n"
          ]
        },
        {
          "output_type": "stream",
          "name": "stderr",
          "text": [
            "100%|██████████| 103M/103M [00:05<00:00, 20.1MB/s]\n"
          ]
        },
        {
          "output_type": "stream",
          "name": "stdout",
          "text": [
            "\n"
          ]
        }
      ],
      "source": [
        "od.download(\n",
        "    \"https://www.kaggle.com/datasets/utkarshsaxenadn/car-vs-bike-classification-dataset\"\n",
        ")"
      ]
    },
    {
      "cell_type": "code",
      "execution_count": 3,
      "metadata": {
        "colab": {
          "base_uri": "https://localhost:8080/"
        },
        "id": "8e2djIsegXi0",
        "outputId": "49a1cdd8-e677-4339-ed7b-abca9eaedf67"
      },
      "outputs": [
        {
          "output_type": "execute_result",
          "data": {
            "text/plain": [
              "['Car', 'Bike']"
            ]
          },
          "metadata": {},
          "execution_count": 3
        }
      ],
      "source": [
        "base_dir = '/content/car-vs-bike-classification-dataset/Car-Bike-Dataset'\n",
        "os.listdir(base_dir)"
      ]
    },
    {
      "cell_type": "code",
      "execution_count": 4,
      "metadata": {
        "id": "yEOXAYHzhQHf"
      },
      "outputs": [],
      "source": [
        "# Defining Bike and Car image training folder \n",
        "bike = os.path.join(base_dir, 'Bike')\n",
        "car = os.path.join(base_dir, 'Car')"
      ]
    },
    {
      "cell_type": "code",
      "execution_count": 5,
      "metadata": {
        "colab": {
          "base_uri": "https://localhost:8080/"
        },
        "id": "SiegDN8upffE",
        "outputId": "27371354-2488-44d7-92cc-78411609c75b"
      },
      "outputs": [
        {
          "output_type": "stream",
          "name": "stdout",
          "text": [
            "Jumlah dataset bike : 2000\n",
            "jumlah dataset car : 2000\n"
          ]
        }
      ],
      "source": [
        "# Melihat jumlah dataset\n",
        "print(\"Jumlah dataset bike :\",len(os.listdir(bike)))\n",
        "print(\"jumlah dataset car :\",len(os.listdir(car)))"
      ]
    },
    {
      "cell_type": "code",
      "execution_count": 6,
      "metadata": {
        "id": "WqoTGNbypoyQ"
      },
      "outputs": [],
      "source": [
        "# Grouping data into Training Data and Validation Data\n",
        "from tensorflow.keras.preprocessing.image import ImageDataGenerator\n",
        "train_datagen = ImageDataGenerator(\n",
        "                    rescale=1./255,\n",
        "                    rotation_range=90,\n",
        "                    horizontal_flip=True,\n",
        "                    vertical_flip=True,\n",
        "                    validation_split = 0.2\n",
        "                    )\n"
      ]
    },
    {
      "cell_type": "code",
      "execution_count": 7,
      "metadata": {
        "colab": {
          "base_uri": "https://localhost:8080/"
        },
        "id": "ZLxsrtkGq6Ya",
        "outputId": "58483b00-2b40-405e-e149-544824864a2c"
      },
      "outputs": [
        {
          "output_type": "stream",
          "name": "stdout",
          "text": [
            "Found 3200 images belonging to 2 classes.\n",
            "Found 800 images belonging to 2 classes.\n"
          ]
        }
      ],
      "source": [
        "# Data labeling using ImageDataGenerator by folder\n",
        "train_generator = train_datagen.flow_from_directory(\n",
        "        base_dir,               \n",
        "        target_size=(150, 150),  # mengubah resolusi menjadi 150x150 pixel\n",
        "        # menggunakan caterogical karena lebih dari karena kasus klasikfikasi 3 kelas\n",
        "        class_mode='binary',\n",
        "        shuffle=True,\n",
        "        batch_size = 32,\n",
        "        subset='training')\n",
        "\n",
        "validation_generator = train_datagen.flow_from_directory(\n",
        "        base_dir,\n",
        "        target_size=(150, 150), # mengubah resolusi menjadi 150x150 pixel\n",
        "        # menggunakan caterogical karena lebih dari karena kasus klasifikasi 3 kelas\n",
        "        class_mode='binary',\n",
        "        shuffle=True,\n",
        "        batch_size = 32,\n",
        "        subset='validation')"
      ]
    },
    {
      "cell_type": "code",
      "execution_count": 8,
      "metadata": {
        "id": "nKjVnb-dq9RO"
      },
      "outputs": [],
      "source": [
        "class myCallback(tf.keras.callbacks.Callback):\n",
        "  # Define the correct function signature for on_epoch_end\n",
        "  def on_epoch_end(self, epoch, logs={}):\n",
        "    if ((logs.get('accuracy') > 0.90)):\n",
        "      print(\"\\nReached 90% accuracy so cancelling training!\") \n",
        "      # Stop training once the above condition is met\n",
        "      self.model.stop_training = True\n",
        "callbacks = myCallback()"
      ]
    },
    {
      "cell_type": "code",
      "execution_count": 13,
      "metadata": {
        "id": "I4NeweelrAa8"
      },
      "outputs": [],
      "source": [
        "model = tf.keras.models.Sequential([\n",
        "  tf.keras.layers.Conv2D(64, (3,3), activation='relu', input_shape=(150, 150, 3)),\n",
        "  tf.keras.layers.MaxPooling2D(2, 2),\n",
        "  tf.keras.layers.Conv2D(128, (3,3), activation='relu'),\n",
        "  tf.keras.layers.MaxPooling2D(2,2),\n",
        "  tf.keras.layers.Conv2D(256, (3,3), activation='relu'),\n",
        "  tf.keras.layers.MaxPooling2D(2,2),\n",
        "  tf.keras.layers.Dropout(0.2),\n",
        "  tf.keras.layers.Flatten(),\n",
        "  tf.keras.layers.Dense(512, activation='relu'),\n",
        "  tf.keras.layers.Dense(1, activation='sigmoid')\n",
        "])"
      ]
    },
    {
      "cell_type": "code",
      "execution_count": 14,
      "metadata": {
        "colab": {
          "base_uri": "https://localhost:8080/"
        },
        "id": "zpdrbtDErJQL",
        "outputId": "9f981b57-4e2d-40d5-ef73-5d96a6cf5c18"
      },
      "outputs": [
        {
          "output_type": "stream",
          "name": "stdout",
          "text": [
            "Model: \"sequential_1\"\n",
            "_________________________________________________________________\n",
            " Layer (type)                Output Shape              Param #   \n",
            "=================================================================\n",
            " conv2d_3 (Conv2D)           (None, 148, 148, 64)      1792      \n",
            "                                                                 \n",
            " max_pooling2d_3 (MaxPooling  (None, 74, 74, 64)       0         \n",
            " 2D)                                                             \n",
            "                                                                 \n",
            " conv2d_4 (Conv2D)           (None, 72, 72, 128)       73856     \n",
            "                                                                 \n",
            " max_pooling2d_4 (MaxPooling  (None, 36, 36, 128)      0         \n",
            " 2D)                                                             \n",
            "                                                                 \n",
            " conv2d_5 (Conv2D)           (None, 34, 34, 256)       295168    \n",
            "                                                                 \n",
            " max_pooling2d_5 (MaxPooling  (None, 17, 17, 256)      0         \n",
            " 2D)                                                             \n",
            "                                                                 \n",
            " dropout (Dropout)           (None, 17, 17, 256)       0         \n",
            "                                                                 \n",
            " flatten_1 (Flatten)         (None, 73984)             0         \n",
            "                                                                 \n",
            " dense_2 (Dense)             (None, 512)               37880320  \n",
            "                                                                 \n",
            " dense_3 (Dense)             (None, 1)                 513       \n",
            "                                                                 \n",
            "=================================================================\n",
            "Total params: 38,251,649\n",
            "Trainable params: 38,251,649\n",
            "Non-trainable params: 0\n",
            "_________________________________________________________________\n"
          ]
        }
      ],
      "source": [
        "model.summary()"
      ]
    },
    {
      "cell_type": "code",
      "execution_count": 15,
      "metadata": {
        "id": "yyqdPwXsrLks"
      },
      "outputs": [],
      "source": [
        "model.compile(loss='binary_crossentropy',\n",
        "              optimizer=tf.optimizers.Adam(),\n",
        "              metrics=['accuracy'])"
      ]
    },
    {
      "cell_type": "code",
      "execution_count": 16,
      "metadata": {
        "colab": {
          "base_uri": "https://localhost:8080/"
        },
        "id": "NaHhr_4ZrOYL",
        "outputId": "39ec8c4a-4da5-4f61-c90d-0cb3ff60804a"
      },
      "outputs": [
        {
          "output_type": "stream",
          "name": "stdout",
          "text": [
            "Epoch 1/100\n",
            "25/25 - 8s - loss: 0.8879 - accuracy: 0.5075 - val_loss: 0.6885 - val_accuracy: 0.5188 - 8s/epoch - 332ms/step\n",
            "Epoch 2/100\n",
            "25/25 - 10s - loss: 0.6802 - accuracy: 0.6100 - val_loss: 0.6358 - val_accuracy: 0.6500 - 10s/epoch - 388ms/step\n",
            "Epoch 3/100\n",
            "25/25 - 7s - loss: 0.6014 - accuracy: 0.6888 - val_loss: 0.6065 - val_accuracy: 0.6625 - 7s/epoch - 271ms/step\n",
            "Epoch 4/100\n",
            "25/25 - 9s - loss: 0.5452 - accuracy: 0.7375 - val_loss: 0.7475 - val_accuracy: 0.6750 - 9s/epoch - 367ms/step\n",
            "Epoch 5/100\n",
            "25/25 - 7s - loss: 0.5759 - accuracy: 0.7325 - val_loss: 0.7426 - val_accuracy: 0.6812 - 7s/epoch - 266ms/step\n",
            "Epoch 6/100\n",
            "25/25 - 8s - loss: 0.5828 - accuracy: 0.7125 - val_loss: 0.5442 - val_accuracy: 0.7688 - 8s/epoch - 311ms/step\n",
            "Epoch 7/100\n",
            "25/25 - 7s - loss: 0.5397 - accuracy: 0.7375 - val_loss: 0.5666 - val_accuracy: 0.7188 - 7s/epoch - 296ms/step\n",
            "Epoch 8/100\n",
            "25/25 - 7s - loss: 0.5044 - accuracy: 0.7550 - val_loss: 0.4840 - val_accuracy: 0.7437 - 7s/epoch - 278ms/step\n",
            "Epoch 9/100\n",
            "25/25 - 7s - loss: 0.5027 - accuracy: 0.7450 - val_loss: 0.5761 - val_accuracy: 0.7188 - 7s/epoch - 297ms/step\n",
            "Epoch 10/100\n",
            "25/25 - 9s - loss: 0.4633 - accuracy: 0.7962 - val_loss: 0.5442 - val_accuracy: 0.7750 - 9s/epoch - 359ms/step\n",
            "Epoch 11/100\n",
            "25/25 - 9s - loss: 0.5040 - accuracy: 0.7462 - val_loss: 0.5198 - val_accuracy: 0.7812 - 9s/epoch - 351ms/step\n",
            "Epoch 12/100\n",
            "25/25 - 7s - loss: 0.4557 - accuracy: 0.8062 - val_loss: 0.5235 - val_accuracy: 0.8125 - 7s/epoch - 287ms/step\n",
            "Epoch 13/100\n",
            "25/25 - 7s - loss: 0.4898 - accuracy: 0.7675 - val_loss: 0.4917 - val_accuracy: 0.7375 - 7s/epoch - 274ms/step\n",
            "Epoch 14/100\n",
            "25/25 - 8s - loss: 0.4351 - accuracy: 0.7912 - val_loss: 0.4265 - val_accuracy: 0.8188 - 8s/epoch - 302ms/step\n",
            "Epoch 15/100\n",
            "25/25 - 7s - loss: 0.4344 - accuracy: 0.8125 - val_loss: 0.4721 - val_accuracy: 0.7625 - 7s/epoch - 298ms/step\n",
            "Epoch 16/100\n",
            "25/25 - 8s - loss: 0.4193 - accuracy: 0.8213 - val_loss: 0.4102 - val_accuracy: 0.8188 - 8s/epoch - 309ms/step\n",
            "Epoch 17/100\n",
            "25/25 - 8s - loss: 0.3942 - accuracy: 0.8100 - val_loss: 0.5212 - val_accuracy: 0.7875 - 8s/epoch - 331ms/step\n",
            "Epoch 18/100\n",
            "25/25 - 8s - loss: 0.4264 - accuracy: 0.8025 - val_loss: 0.4769 - val_accuracy: 0.7625 - 8s/epoch - 303ms/step\n",
            "Epoch 19/100\n",
            "25/25 - 7s - loss: 0.3830 - accuracy: 0.8288 - val_loss: 0.4753 - val_accuracy: 0.7563 - 7s/epoch - 272ms/step\n",
            "Epoch 20/100\n",
            "25/25 - 8s - loss: 0.4840 - accuracy: 0.7862 - val_loss: 0.4298 - val_accuracy: 0.8062 - 8s/epoch - 312ms/step\n",
            "Epoch 21/100\n",
            "25/25 - 7s - loss: 0.3683 - accuracy: 0.8438 - val_loss: 0.4057 - val_accuracy: 0.8375 - 7s/epoch - 283ms/step\n",
            "Epoch 22/100\n",
            "25/25 - 8s - loss: 0.4314 - accuracy: 0.8062 - val_loss: 0.4746 - val_accuracy: 0.8188 - 8s/epoch - 313ms/step\n",
            "Epoch 23/100\n",
            "25/25 - 7s - loss: 0.3515 - accuracy: 0.8413 - val_loss: 0.3903 - val_accuracy: 0.8562 - 7s/epoch - 298ms/step\n",
            "Epoch 24/100\n",
            "25/25 - 7s - loss: 0.3760 - accuracy: 0.8313 - val_loss: 0.3980 - val_accuracy: 0.8375 - 7s/epoch - 277ms/step\n",
            "Epoch 25/100\n",
            "25/25 - 8s - loss: 0.3549 - accuracy: 0.8450 - val_loss: 0.4519 - val_accuracy: 0.8125 - 8s/epoch - 328ms/step\n",
            "Epoch 26/100\n",
            "25/25 - 7s - loss: 0.3517 - accuracy: 0.8462 - val_loss: 0.3830 - val_accuracy: 0.8562 - 7s/epoch - 280ms/step\n",
            "Epoch 27/100\n",
            "25/25 - 7s - loss: 0.3546 - accuracy: 0.8562 - val_loss: 0.4546 - val_accuracy: 0.8313 - 7s/epoch - 262ms/step\n",
            "Epoch 28/100\n",
            "25/25 - 8s - loss: 0.3504 - accuracy: 0.8338 - val_loss: 0.4036 - val_accuracy: 0.8062 - 8s/epoch - 316ms/step\n",
            "Epoch 29/100\n",
            "25/25 - 7s - loss: 0.3671 - accuracy: 0.8413 - val_loss: 0.3760 - val_accuracy: 0.8250 - 7s/epoch - 296ms/step\n",
            "Epoch 30/100\n",
            "25/25 - 8s - loss: 0.3359 - accuracy: 0.8550 - val_loss: 0.3636 - val_accuracy: 0.8125 - 8s/epoch - 305ms/step\n",
            "Epoch 31/100\n",
            "25/25 - 7s - loss: 0.3785 - accuracy: 0.8225 - val_loss: 0.2783 - val_accuracy: 0.9125 - 7s/epoch - 283ms/step\n",
            "Epoch 32/100\n",
            "25/25 - 8s - loss: 0.3231 - accuracy: 0.8675 - val_loss: 0.3814 - val_accuracy: 0.8438 - 8s/epoch - 314ms/step\n",
            "Epoch 33/100\n",
            "25/25 - 7s - loss: 0.3339 - accuracy: 0.8512 - val_loss: 0.2900 - val_accuracy: 0.9000 - 7s/epoch - 292ms/step\n",
            "Epoch 34/100\n",
            "25/25 - 8s - loss: 0.3553 - accuracy: 0.8363 - val_loss: 0.3957 - val_accuracy: 0.8062 - 8s/epoch - 310ms/step\n",
            "Epoch 35/100\n",
            "25/25 - 8s - loss: 0.3061 - accuracy: 0.8675 - val_loss: 0.3681 - val_accuracy: 0.8687 - 8s/epoch - 319ms/step\n",
            "Epoch 36/100\n",
            "25/25 - 8s - loss: 0.3216 - accuracy: 0.8537 - val_loss: 0.3605 - val_accuracy: 0.8687 - 8s/epoch - 312ms/step\n",
            "Epoch 37/100\n",
            "25/25 - 7s - loss: 0.3035 - accuracy: 0.8737 - val_loss: 0.3262 - val_accuracy: 0.8875 - 7s/epoch - 264ms/step\n",
            "Epoch 38/100\n",
            "25/25 - 7s - loss: 0.2817 - accuracy: 0.8687 - val_loss: 0.2808 - val_accuracy: 0.8750 - 7s/epoch - 281ms/step\n",
            "Epoch 39/100\n",
            "25/25 - 8s - loss: 0.2723 - accuracy: 0.8850 - val_loss: 0.3924 - val_accuracy: 0.8562 - 8s/epoch - 338ms/step\n",
            "Epoch 40/100\n",
            "25/25 - 7s - loss: 0.2859 - accuracy: 0.8925 - val_loss: 0.2891 - val_accuracy: 0.8875 - 7s/epoch - 287ms/step\n",
            "Epoch 41/100\n",
            "25/25 - 8s - loss: 0.2749 - accuracy: 0.8875 - val_loss: 0.3607 - val_accuracy: 0.8375 - 8s/epoch - 324ms/step\n",
            "Epoch 42/100\n",
            "25/25 - 9s - loss: 0.3062 - accuracy: 0.8662 - val_loss: 0.4010 - val_accuracy: 0.8250 - 9s/epoch - 346ms/step\n",
            "Epoch 43/100\n",
            "25/25 - 7s - loss: 0.2565 - accuracy: 0.8863 - val_loss: 0.3948 - val_accuracy: 0.8625 - 7s/epoch - 283ms/step\n",
            "Epoch 44/100\n",
            "\n",
            "Reached 90% accuracy so cancelling training!\n",
            "25/25 - 7s - loss: 0.2517 - accuracy: 0.9013 - val_loss: 0.4580 - val_accuracy: 0.8313 - 7s/epoch - 284ms/step\n"
          ]
        }
      ],
      "source": [
        "# latih model dengan model.fit \n",
        "result = model.fit(\n",
        "    train_generator,\n",
        "    steps_per_epoch= 25,  # berapa batch yang akan dieksekusi pada setiap epoch\n",
        "    epochs=100, # tambahkan epochs jika akurasi model belum optimal\n",
        "    validation_data=\n",
        "    validation_generator, # menampilkan akurasi pengujian data validasi\n",
        "    validation_steps=5,  # berapa batch yang akan dieksekusi pada setiap epoch\n",
        "    verbose=2, callbacks=[callbacks])\n",
        "    "
      ]
    },
    {
      "cell_type": "code",
      "source": [
        "import numpy as np\n",
        "from google.colab import files\n",
        "from tensorflow.keras.preprocessing import image\n",
        "import matplotlib.pyplot as plt\n",
        "import matplotlib.image as mpimg\n",
        "import matplotlib.pyplot as plt\n",
        "import matplotlib.image as mpimg\n",
        "%matplotlib inline\n",
        "\n",
        "uploaded = files.upload()\n",
        "\n",
        "for fn in uploaded.keys():\n",
        " \n",
        "  # predicting images\n",
        "  path = fn\n",
        "  img = image.load_img(path, target_size=(150,150))\n",
        "\n",
        "  imgplot = plt.imshow(img)\n",
        "  x = image.img_to_array(img)\n",
        "  x = np.expand_dims(x, axis=0)\n",
        "  images = np.vstack([x])\n",
        "\n",
        "  classes = model.predict(images, batch_size=10)  \n",
        "  print(fn)\n",
        "  if classes[0][0]==1:\n",
        "    print('Ini adalah Bike')\n",
        "  else:\n",
        "   print('Ini adalah Car')"
      ],
      "metadata": {
        "colab": {
          "base_uri": "https://localhost:8080/",
          "height": 377
        },
        "id": "TFzqBPb3XXc1",
        "outputId": "f823bce5-76fe-4729-ed42-98b8feaefdc0"
      },
      "execution_count": 23,
      "outputs": [
        {
          "output_type": "display_data",
          "data": {
            "text/plain": [
              "<IPython.core.display.HTML object>"
            ],
            "text/html": [
              "\n",
              "     <input type=\"file\" id=\"files-ea716f93-1be0-4cf4-9d39-d75964b85b72\" name=\"files[]\" multiple disabled\n",
              "        style=\"border:none\" />\n",
              "     <output id=\"result-ea716f93-1be0-4cf4-9d39-d75964b85b72\">\n",
              "      Upload widget is only available when the cell has been executed in the\n",
              "      current browser session. Please rerun this cell to enable.\n",
              "      </output>\n",
              "      <script>// Copyright 2017 Google LLC\n",
              "//\n",
              "// Licensed under the Apache License, Version 2.0 (the \"License\");\n",
              "// you may not use this file except in compliance with the License.\n",
              "// You may obtain a copy of the License at\n",
              "//\n",
              "//      http://www.apache.org/licenses/LICENSE-2.0\n",
              "//\n",
              "// Unless required by applicable law or agreed to in writing, software\n",
              "// distributed under the License is distributed on an \"AS IS\" BASIS,\n",
              "// WITHOUT WARRANTIES OR CONDITIONS OF ANY KIND, either express or implied.\n",
              "// See the License for the specific language governing permissions and\n",
              "// limitations under the License.\n",
              "\n",
              "/**\n",
              " * @fileoverview Helpers for google.colab Python module.\n",
              " */\n",
              "(function(scope) {\n",
              "function span(text, styleAttributes = {}) {\n",
              "  const element = document.createElement('span');\n",
              "  element.textContent = text;\n",
              "  for (const key of Object.keys(styleAttributes)) {\n",
              "    element.style[key] = styleAttributes[key];\n",
              "  }\n",
              "  return element;\n",
              "}\n",
              "\n",
              "// Max number of bytes which will be uploaded at a time.\n",
              "const MAX_PAYLOAD_SIZE = 100 * 1024;\n",
              "\n",
              "function _uploadFiles(inputId, outputId) {\n",
              "  const steps = uploadFilesStep(inputId, outputId);\n",
              "  const outputElement = document.getElementById(outputId);\n",
              "  // Cache steps on the outputElement to make it available for the next call\n",
              "  // to uploadFilesContinue from Python.\n",
              "  outputElement.steps = steps;\n",
              "\n",
              "  return _uploadFilesContinue(outputId);\n",
              "}\n",
              "\n",
              "// This is roughly an async generator (not supported in the browser yet),\n",
              "// where there are multiple asynchronous steps and the Python side is going\n",
              "// to poll for completion of each step.\n",
              "// This uses a Promise to block the python side on completion of each step,\n",
              "// then passes the result of the previous step as the input to the next step.\n",
              "function _uploadFilesContinue(outputId) {\n",
              "  const outputElement = document.getElementById(outputId);\n",
              "  const steps = outputElement.steps;\n",
              "\n",
              "  const next = steps.next(outputElement.lastPromiseValue);\n",
              "  return Promise.resolve(next.value.promise).then((value) => {\n",
              "    // Cache the last promise value to make it available to the next\n",
              "    // step of the generator.\n",
              "    outputElement.lastPromiseValue = value;\n",
              "    return next.value.response;\n",
              "  });\n",
              "}\n",
              "\n",
              "/**\n",
              " * Generator function which is called between each async step of the upload\n",
              " * process.\n",
              " * @param {string} inputId Element ID of the input file picker element.\n",
              " * @param {string} outputId Element ID of the output display.\n",
              " * @return {!Iterable<!Object>} Iterable of next steps.\n",
              " */\n",
              "function* uploadFilesStep(inputId, outputId) {\n",
              "  const inputElement = document.getElementById(inputId);\n",
              "  inputElement.disabled = false;\n",
              "\n",
              "  const outputElement = document.getElementById(outputId);\n",
              "  outputElement.innerHTML = '';\n",
              "\n",
              "  const pickedPromise = new Promise((resolve) => {\n",
              "    inputElement.addEventListener('change', (e) => {\n",
              "      resolve(e.target.files);\n",
              "    });\n",
              "  });\n",
              "\n",
              "  const cancel = document.createElement('button');\n",
              "  inputElement.parentElement.appendChild(cancel);\n",
              "  cancel.textContent = 'Cancel upload';\n",
              "  const cancelPromise = new Promise((resolve) => {\n",
              "    cancel.onclick = () => {\n",
              "      resolve(null);\n",
              "    };\n",
              "  });\n",
              "\n",
              "  // Wait for the user to pick the files.\n",
              "  const files = yield {\n",
              "    promise: Promise.race([pickedPromise, cancelPromise]),\n",
              "    response: {\n",
              "      action: 'starting',\n",
              "    }\n",
              "  };\n",
              "\n",
              "  cancel.remove();\n",
              "\n",
              "  // Disable the input element since further picks are not allowed.\n",
              "  inputElement.disabled = true;\n",
              "\n",
              "  if (!files) {\n",
              "    return {\n",
              "      response: {\n",
              "        action: 'complete',\n",
              "      }\n",
              "    };\n",
              "  }\n",
              "\n",
              "  for (const file of files) {\n",
              "    const li = document.createElement('li');\n",
              "    li.append(span(file.name, {fontWeight: 'bold'}));\n",
              "    li.append(span(\n",
              "        `(${file.type || 'n/a'}) - ${file.size} bytes, ` +\n",
              "        `last modified: ${\n",
              "            file.lastModifiedDate ? file.lastModifiedDate.toLocaleDateString() :\n",
              "                                    'n/a'} - `));\n",
              "    const percent = span('0% done');\n",
              "    li.appendChild(percent);\n",
              "\n",
              "    outputElement.appendChild(li);\n",
              "\n",
              "    const fileDataPromise = new Promise((resolve) => {\n",
              "      const reader = new FileReader();\n",
              "      reader.onload = (e) => {\n",
              "        resolve(e.target.result);\n",
              "      };\n",
              "      reader.readAsArrayBuffer(file);\n",
              "    });\n",
              "    // Wait for the data to be ready.\n",
              "    let fileData = yield {\n",
              "      promise: fileDataPromise,\n",
              "      response: {\n",
              "        action: 'continue',\n",
              "      }\n",
              "    };\n",
              "\n",
              "    // Use a chunked sending to avoid message size limits. See b/62115660.\n",
              "    let position = 0;\n",
              "    do {\n",
              "      const length = Math.min(fileData.byteLength - position, MAX_PAYLOAD_SIZE);\n",
              "      const chunk = new Uint8Array(fileData, position, length);\n",
              "      position += length;\n",
              "\n",
              "      const base64 = btoa(String.fromCharCode.apply(null, chunk));\n",
              "      yield {\n",
              "        response: {\n",
              "          action: 'append',\n",
              "          file: file.name,\n",
              "          data: base64,\n",
              "        },\n",
              "      };\n",
              "\n",
              "      let percentDone = fileData.byteLength === 0 ?\n",
              "          100 :\n",
              "          Math.round((position / fileData.byteLength) * 100);\n",
              "      percent.textContent = `${percentDone}% done`;\n",
              "\n",
              "    } while (position < fileData.byteLength);\n",
              "  }\n",
              "\n",
              "  // All done.\n",
              "  yield {\n",
              "    response: {\n",
              "      action: 'complete',\n",
              "    }\n",
              "  };\n",
              "}\n",
              "\n",
              "scope.google = scope.google || {};\n",
              "scope.google.colab = scope.google.colab || {};\n",
              "scope.google.colab._files = {\n",
              "  _uploadFiles,\n",
              "  _uploadFilesContinue,\n",
              "};\n",
              "})(self);\n",
              "</script> "
            ]
          },
          "metadata": {}
        },
        {
          "output_type": "stream",
          "name": "stdout",
          "text": [
            "Saving Bike (1).png to Bike (1) (1).png\n",
            "1/1 [==============================] - 0s 18ms/step\n",
            "Bike (1).png\n",
            "Ini adalah Bike\n"
          ]
        },
        {
          "output_type": "display_data",
          "data": {
            "text/plain": [
              "<Figure size 432x288 with 1 Axes>"
            ],
            "image/png": "[encoded data removed]"
          },
          "metadata": {
            "needs_background": "light"
          }
        }
      ]
    },
    {
      "cell_type": "code",
      "source": [
        "classes"
      ],
      "metadata": {
        "id": "6o9EB1cNZxCB",
        "colab": {
          "base_uri": "https://localhost:8080/"
        },
        "outputId": "9812f787-80a3-47fc-f467-51b35d72e1a0"
      },
      "execution_count": 18,
      "outputs": [
        {
          "output_type": "execute_result",
          "data": {
            "text/plain": [
              "array([[1.]], dtype=float32)"
            ]
          },
          "metadata": {},
          "execution_count": 18
        }
      ]
    },
    {
      "cell_type": "code",
      "source": [
        "print(train_generator.class_indices) "
      ],
      "metadata": {
        "colab": {
          "base_uri": "https://localhost:8080/"
        },
        "id": "n4sn2Fj8Z1Fg",
        "outputId": "f9effc3f-e491-48db-d154-a1ec52cfea58"
      },
      "execution_count": 19,
      "outputs": [
        {
          "output_type": "stream",
          "name": "stdout",
          "text": [
            "{'Bike': 0, 'Car': 1}\n"
          ]
        }
      ]
    },
    {
      "cell_type": "code",
      "execution_count": 20,
      "metadata": {
        "id": "Mgbv4_q10lEM",
        "colab": {
          "base_uri": "https://localhost:8080/",
          "height": 295
        },
        "outputId": "b710327b-b459-4162-9ff6-559832bf55bc"
      },
      "outputs": [
        {
          "output_type": "display_data",
          "data": {
            "text/plain": [
              "<Figure size 432x288 with 1 Axes>"
            ],
            "image/png": "[encoded data removed]"
          },
          "metadata": {
            "needs_background": "light"
          }
        }
      ],
      "source": [
        "plt.plot(result.history['accuracy'], label='Train Accuracy')\n",
        "plt.plot(result.history['val_accuracy'], label='Validation Accuracy')\n",
        "plt.title('Accuracy Plot')\n",
        "plt.ylabel('Accuracy Value')\n",
        "plt.xlabel('Epoch') \n",
        "plt.legend(loc=\"lower right\")\n",
        "plt.show()"
      ]
    },
    {
      "cell_type": "code",
      "execution_count": 21,
      "metadata": {
        "id": "72fAUkLF03AZ",
        "colab": {
          "base_uri": "https://localhost:8080/",
          "height": 295
        },
        "outputId": "d5eba719-4166-4314-e0da-2b16c1ded544"
      },
      "outputs": [
        {
          "output_type": "display_data",
          "data": {
            "text/plain": [
              "<Figure size 432x288 with 1 Axes>"
            ],
            "image/png": "[encoded data removed]"
          },
          "metadata": {
            "needs_background": "light"
          }
        }
      ],
      "source": [
        "plt.plot(result.history['loss'], label='Train Loss')\n",
        "plt.plot(result.history['val_loss'], label='Validation Loss')\n",
        "plt.title('Loss Plot')\n",
        "plt.ylabel('Loss Value')\n",
        "plt.xlabel('Epoch')\n",
        "plt.legend(loc=\"upper right\")\n",
        "plt.show()"
      ]
    },
    {
      "cell_type": "code",
      "source": [
        "#Convert to tf lite\n",
        "converter = tf.lite.TFLiteConverter.from_keras_model(model)\n",
        "tflite_model = converter.convert()\n",
        "\n",
        "#save \n",
        "with tf.io.gfile.GFile('model.tflite', 'wb') as f:\n",
        "  f.write(tflite_model)"
      ],
      "metadata": {
        "colab": {
          "base_uri": "https://localhost:8080/"
        },
        "id": "hJoUEb8W1tZb",
        "outputId": "7416676c-351d-4bd0-e286-fb028f7974f8"
      },
      "execution_count": 24,
      "outputs": [
        {
          "output_type": "stream",
          "name": "stderr",
          "text": [
            "WARNING:absl:Found untraced functions such as _jit_compiled_convolution_op, _jit_compiled_convolution_op, _jit_compiled_convolution_op while saving (showing 3 of 3). These functions will not be directly callable after loading.\n"
          ]
        }
      ]
    }
  ],
  "metadata": {
    "colab": {
      "provenance": []
    },
    "kernelspec": {
      "display_name": "Python 3",
      "name": "python3"
    },
    "language_info": {
      "name": "python"
    },
    "accelerator": "GPU",
    "gpuClass": "standard"
  },
  "nbformat": 4,
  "nbformat_minor": 0
}